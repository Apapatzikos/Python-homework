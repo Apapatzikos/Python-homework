{
 "cells": [
  {
   "cell_type": "code",
   "execution_count": 18,
   "id": "3f59d723-a606-46d8-8890-7f4a4baf2fcc",
   "metadata": {},
   "outputs": [
    {
     "name": "stdout",
     "output_type": "stream",
     "text": [
      "        Date  Profit/Losses\n",
      "0   Jan-2010         867884\n",
      "1   Feb-2010         984655\n",
      "2   Mar-2010         322013\n",
      "3   Apr-2010         -69417\n",
      "4   May-2010         310503\n",
      "..       ...            ...\n",
      "81  Oct-2016         102685\n",
      "82  Nov-2016         795914\n",
      "83  Dec-2016          60988\n",
      "84  Jan-2017         138230\n",
      "85  Feb-2017         671099\n",
      "\n",
      "[86 rows x 2 columns]\n"
     ]
    }
   ],
   "source": [
    "##Import Data\n",
    "##Your task is to create a Python script that analyzes the records to calculate each of the following:\n",
    "# import pandas and assign it to the variable pd\n",
    "import pandas as pd \n",
    "\n",
    "# using pandas, import the .csv file containing the data and save it to a variable data\n",
    "budget_data2 = pd.read_csv('budget_data.csv')\n",
    "print(budget_data2)"
   ]
  },
  {
   "cell_type": "code",
   "execution_count": 22,
   "id": "f96c9ff3-70a9-4acb-abb0-98f6bd9c7410",
   "metadata": {},
   "outputs": [
    {
     "name": "stdout",
     "output_type": "stream",
     "text": [
      "86\n"
     ]
    }
   ],
   "source": [
    "#The total number of months included in the dataset.\n",
    "#budget_data = [{\"Jan\": 1}, {\"Feb\": 2}, {\"Mar\": 3}]\n",
    "#total_number_months = len(budget_data)\n",
    "#print(total_number_months)\n",
    "\n",
    "#budget_data2 = [[\"Jan\", \"Feb\", \"Mar\", \"Apr\"], [1, 2, 3, 4]]\n",
    "#total_number_months2 = len(budget_data2[0])\n",
    "#print(total_number_months2)\n",
    "\n",
    "total_months = len(budget_data2)\n",
    "print(total_months)"
   ]
  },
  {
   "cell_type": "code",
   "execution_count": 24,
   "id": "9e901f38-da62-49a0-a5d6-344ecb63da7e",
   "metadata": {},
   "outputs": [
    {
     "name": "stdout",
     "output_type": "stream",
     "text": [
      "38382578\n",
      "$38382578\n"
     ]
    }
   ],
   "source": [
    "#The net total amount of Profit/Losses over the entire period.\n",
    "#budget_data2 = [[\"Jan\", \"Feb\", \"Mar\", \"Apr\"], [1, 2, 3, 4]]\n",
    "#net_totals= sum(budget_data2[1]) #\"normally do it to find total, but for hw its a dictionary and it will need a different method budget_data[\"Profit/Losses\"].sum()\"\n",
    "#print(net_totals)\n",
    "\n",
    "net = budget_data2[\"Profit/Losses\"].sum()\n",
    "print(net)\n",
    "print(f\"${net}\")"
   ]
  },
  {
   "cell_type": "code",
   "execution_count": 1,
   "id": "100bb654-81fb-4676-bc67-3b93c2c04644",
   "metadata": {},
   "outputs": [
    {
     "ename": "NameError",
     "evalue": "name 'budget_data2' is not defined",
     "output_type": "error",
     "traceback": [
      "\u001b[1;31m---------------------------------------------------------------------------\u001b[0m",
      "\u001b[1;31mNameError\u001b[0m                                 Traceback (most recent call last)",
      "Cell \u001b[1;32mIn[1], line 9\u001b[0m\n\u001b[0;32m      1\u001b[0m \u001b[38;5;66;03m#The average of the changes in Profit/Losses over the entire period.\u001b[39;00m\n\u001b[0;32m      2\u001b[0m \u001b[38;5;66;03m#1,7,9 # What are the profits/losses \"budget_data & budget_data 2\"\u001b[39;00m\n\u001b[0;32m      3\u001b[0m \u001b[38;5;66;03m#6,2 # Whats the diff between the values \"profit/loss\" month 1 and month 2, etc\u001b[39;00m\n\u001b[1;32m   (...)\u001b[0m\n\u001b[0;32m      7\u001b[0m \u001b[38;5;66;03m# Will need to add a new column to the data set, for the changes betwween values\u001b[39;00m\n\u001b[0;32m      8\u001b[0m \u001b[38;5;66;03m#print(budget_data2)\u001b[39;00m\n\u001b[1;32m----> 9\u001b[0m budget_data2[\u001b[38;5;124m\"\u001b[39m\u001b[38;5;124mChange\u001b[39m\u001b[38;5;124m\"\u001b[39m] \u001b[38;5;241m=\u001b[39m budget_data2[\u001b[38;5;124m\"\u001b[39m\u001b[38;5;124mProfit/Losses\u001b[39m\u001b[38;5;124m\"\u001b[39m]\u001b[38;5;241m.\u001b[39mdiff()\n\u001b[0;32m     10\u001b[0m \u001b[38;5;66;03m#print(budget_data2)\u001b[39;00m\n\u001b[0;32m     11\u001b[0m sum_change \u001b[38;5;241m=\u001b[39m budget_data2[\u001b[38;5;124m\"\u001b[39m\u001b[38;5;124mChange\u001b[39m\u001b[38;5;124m\"\u001b[39m]\u001b[38;5;241m.\u001b[39msum()\n",
      "\u001b[1;31mNameError\u001b[0m: name 'budget_data2' is not defined"
     ]
    }
   ],
   "source": [
    "#The average of the changes in Profit/Losses over the entire period.\n",
    "#1,7,9 # What are the profits/losses \"budget_data & budget_data 2\"\n",
    "#6,2 # Whats the diff between the values \"profit/loss\" month 1 and month 2, etc\n",
    "#2 # Figure out how many changes you have between the \"profit/loss\" months\"\n",
    "#8 # Sum of all the values of the changes\n",
    "#4 # Calcualte the average of the value by # of changes\n",
    "# Will need to add a new column to the data set, for the changes betwween values\n",
    "#print(budget_data2)\n",
    "budget_data2[\"Change\"] = budget_data2[\"Profit/Losses\"].diff()\n",
    "#print(budget_data2)\n",
    "sum_change = budget_data2[\"Change\"].sum()\n",
    "total_change = len(budget_data2[\"Change\"]) -1 #The -1 is because we know that the first value of the Change list doesn't count\n",
    "#print(total_change)\n",
    "average = sum_change / total_change\n",
    "print(average)\n",
    "print(round(average, 2))\n",
    "\n",
    "avg = budget_data2[\"Change\"].mean().round(2)\n",
    "print(f\"${avg}\")"
   ]
  },
  {
   "cell_type": "code",
   "execution_count": null,
   "id": "ec83f8ff-5c72-4285-b5e1-0ccec0a0fc10",
   "metadata": {},
   "outputs": [],
   "source": [
    "#The greatest increase in profits (date and amount) over the entire period.\n"
   ]
  },
  {
   "cell_type": "code",
   "execution_count": null,
   "id": "257f7b31-8679-423d-8a9a-7f382952d71d",
   "metadata": {},
   "outputs": [],
   "source": [
    "#The greatest decrease in losses (date and amount) over the entire period.\n"
   ]
  },
  {
   "cell_type": "code",
   "execution_count": null,
   "id": "1aa424cd-f3c9-40e2-b8eb-eb892ae12fce",
   "metadata": {},
   "outputs": [],
   "source": [
    "# What you get from the library is a method, ex: Path(), something()\n",
    "#import pathlib\n",
    "#budget_data_csv = pathlib.Path(\"Desktop/FinTech Bootcamp/Challenge_2/Python-homework/PyBank/budget_data.csv\")"
   ]
  }
 ],
 "metadata": {
  "kernelspec": {
   "display_name": "Python 3 (ipykernel)",
   "language": "python",
   "name": "python3"
  },
  "language_info": {
   "codemirror_mode": {
    "name": "ipython",
    "version": 3
   },
   "file_extension": ".py",
   "mimetype": "text/x-python",
   "name": "python",
   "nbconvert_exporter": "python",
   "pygments_lexer": "ipython3",
   "version": "3.11.5"
  }
 },
 "nbformat": 4,
 "nbformat_minor": 5
}
