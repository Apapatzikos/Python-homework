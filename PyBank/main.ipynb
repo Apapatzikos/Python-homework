{
 "cells": [
  {
   "cell_type": "code",
   "execution_count": 49,
   "id": "3205c0e8-71e0-4d77-a052-a2d5d2d50d74",
   "metadata": {},
   "outputs": [],
   "source": [
    "##Import Data\n",
    "##Your task is to create a Python script that analyzes the records to calculate each of the following:\n",
    "\n",
    "###The total number of months included in the dataset\n",
    "###The net total amount of Profit/Losses over the entire period\n",
    "###The average of the changes in Profit/Losses over the entire period\n",
    "###The greatest increase in profits (date and amount) over the entire period\n",
    "###The greatest decrease in losses (date and amount) over the entire period"
   ]
  },
  {
   "cell_type": "code",
   "execution_count": 50,
   "id": "25e9698a-577c-4ead-9b94-cd7b06b10a71",
   "metadata": {},
   "outputs": [],
   "source": [
    "#Define and Import the CSV Data\n",
    "import csv as csv\n",
    "from pathlib import Path\n",
    "budget_data_csv = Path(\"budget_data.csv\")\n",
    "\n",
    "date = []\n",
    "profit_losses = []\n",
    "\n",
    "with open(budget_data_csv) as budget_data:\n",
    "    budget_data_reader = csv.reader(budget_data)\n",
    "    header = next(budget_data_reader)\n",
    "    for row in budget_data_reader: \n",
    "        date.append(row[0])\n",
    "        profit_losses.append(int(row[1]))\n",
    "        \n",
    "        \n",
    "        \n",
    "##print(date)\n",
    "##print(profit_losses)"
   ]
  },
  {
   "cell_type": "code",
   "execution_count": 51,
   "id": "285c8697-d85b-4356-a15a-a17c688a4dfd",
   "metadata": {},
   "outputs": [
    {
     "name": "stdout",
     "output_type": "stream",
     "text": [
      "86  is the total number of months in the data set\n"
     ]
    }
   ],
   "source": [
    "###The total number of months included in the dataset\n",
    "months = len(date)\n",
    "print(f\"{months}  is the total number of months in the data set\")"
   ]
  },
  {
   "cell_type": "code",
   "execution_count": 52,
   "id": "eda01e3f-3aaf-477e-abd6-832f4d284ca5",
   "metadata": {},
   "outputs": [
    {
     "name": "stdout",
     "output_type": "stream",
     "text": [
      "$38382578 is the net total amount of Profit/Losses over the entire period\n"
     ]
    }
   ],
   "source": [
    "###The net total amount of Profit/Losses over the entire period\n",
    "x = sum(profit_losses)\n",
    "print(f\"${x} is the net total amount of Profit/Losses over the entire period\")"
   ]
  },
  {
   "cell_type": "code",
   "execution_count": 53,
   "id": "72720bf0-8fb3-4f91-bbf3-f28fac2c725e",
   "metadata": {},
   "outputs": [
    {
     "name": "stdout",
     "output_type": "stream",
     "text": [
      "$-2315.12 is the average of the changes in Profit/Losses over the entire period\n"
     ]
    }
   ],
   "source": [
    "###The average of the changes in Profit/Losses over the entire period\n",
    "change_diff = []\n",
    "### Need to find the difference between each value month after month\n",
    "\n",
    "for values in profit_losses:\n",
    "    if values == profit_losses[0]:\n",
    "        value_1 = values\n",
    "    elif values:\n",
    "        value_2 = values\n",
    "        difference = value_2 - value_1\n",
    "        change_diff.append(difference)\n",
    "        value_1 = value_2 \n",
    "average = sum(change_diff) / len(change_diff)\n",
    "##print(change_diff)\n",
    "##len(change_diff)\n",
    "print(f\"${round(average, 2)} is the average of the changes in Profit/Losses over the entire period\")"
   ]
  },
  {
   "cell_type": "code",
   "execution_count": 54,
   "id": "51e41e4d-8a96-4f5c-8eea-24a422802b14",
   "metadata": {},
   "outputs": [
    {
     "name": "stdout",
     "output_type": "stream",
     "text": [
      "The greates increse in profits was $1926159 on Feb-2012\n"
     ]
    }
   ],
   "source": [
    "###The greatest increase in profits (date and amount) over the entire period\n",
    "\n",
    "maximum = max(change_diff)\n",
    "index_max = change_diff.index(maximum)\n",
    "date_max = date[index_max + 1]\n",
    "#print(maximum)\n",
    "#print(index_max)\n",
    "#print(date_max)\n",
    "print(f\"The greates increse in profits was ${maximum} on {date_max}\")"
   ]
  },
  {
   "cell_type": "code",
   "execution_count": 55,
   "id": "547f50a5-ab7f-4f90-92fd-e26c4dc69665",
   "metadata": {},
   "outputs": [
    {
     "name": "stdout",
     "output_type": "stream",
     "text": [
      "The greates decrease in profits was $-2196167 on Sep-2013\n"
     ]
    }
   ],
   "source": [
    "###The greatest decrease in losses (date and amount) over the entire period\n",
    "\n",
    "minimum = min(change_diff)\n",
    "index_min = change_diff.index(minimum)\n",
    "date_min = date[index_min + 1]\n",
    "#print(minimum)\n",
    "#print(index_min)\n",
    "#print(date_min)\n",
    "print(f\"The greates decrease in profits was ${minimum} on {date_min}\")"
   ]
  },
  {
   "cell_type": "code",
   "execution_count": null,
   "id": "bc16a1ea-1b6f-4695-91b1-6f3c6207eb97",
   "metadata": {},
   "outputs": [],
   "source": [
    "#Financial Analysis\n",
    "\n",
    "print(f\"{months}  is the total number of months in the data set\")"
   ]
  }
 ],
 "metadata": {
  "kernelspec": {
   "display_name": "Python 3 (ipykernel)",
   "language": "python",
   "name": "python3"
  },
  "language_info": {
   "codemirror_mode": {
    "name": "ipython",
    "version": 3
   },
   "file_extension": ".py",
   "mimetype": "text/x-python",
   "name": "python",
   "nbconvert_exporter": "python",
   "pygments_lexer": "ipython3",
   "version": "3.11.5"
  }
 },
 "nbformat": 4,
 "nbformat_minor": 5
}
